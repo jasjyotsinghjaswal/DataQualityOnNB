{
 "cells": [
  {
   "cell_type": "markdown",
   "metadata": {},
   "source": [
    "# Import Utiltiy Functions Notebook"
   ]
  },
  {
   "cell_type": "code",
   "execution_count": 1,
   "metadata": {},
   "outputs": [],
   "source": [
    "%run ./UtilityFunctions.ipynb "
   ]
  },
  {
   "cell_type": "markdown",
   "metadata": {},
   "source": [
    "# Import Dependencies"
   ]
  },
  {
   "cell_type": "code",
   "execution_count": 2,
   "metadata": {},
   "outputs": [],
   "source": [
    "import findspark\n",
    "findspark.init()\n",
    "import pyspark # only run after findspark.init()\n",
    "from pyspark.sql.functions import *\n",
    "from pyspark.sql.functions import col, explode,coalesce,udf,pandas_udf\n",
    "from pyspark.sql import SparkSession\n",
    "from pyspark.sql.types import LongType,StructType,StringType,ArrayType\n",
    "spark = SparkSession.builder.getOrCreate()\n",
    "import datetime\n",
    "from datetime import timedelta \n",
    "from pyspark.sql.functions import split\n",
    "from pyspark.sql import functions\n",
    "from pyspark.sql.window import *\n",
    "import pandas as pd\n",
    "import json"
   ]
  },
  {
   "cell_type": "markdown",
   "metadata": {},
   "source": [
    "# Schema for UDF Rule and Transformation UDF Return types\n"
   ]
  },
  {
   "cell_type": "code",
   "execution_count": 3,
   "metadata": {},
   "outputs": [],
   "source": [
    "# Rule Schema will have an array of 2 strings (OutputColumnValue,RuleStatusValue)\n",
    "rule_schema = ArrayType(StringType())\n",
    "# Trans Schema will have only 1 String i.e. TransformedColumnValue/OutputColumnValue\n",
    "trans_schema = StringType()"
   ]
  },
  {
   "cell_type": "code",
   "execution_count": 4,
   "metadata": {},
   "outputs": [],
   "source": [
    "# Class containing all DQ Rules.Every Rule has 2 or more parameters.Last 2 inputs are always Category,RuleID and the previous input parameters are Input columns to the functions.\n",
    "class RuleEngine(object):\n",
    "    # Rule takes in IpAddress as input\n",
    "    def R001(ipaddr,rid,categ):\n",
    "        # Trim leading and trailing whitespaces\n",
    "        ipaddr_trimmed = ipaddr.strip()\n",
    "        is_valid_ip = check_ip(ipaddr_trimmed)\n",
    "        if is_valid_ip:\n",
    "            return [ipaddr_trimmed,f\"\"]\n",
    "        \n",
    "        return [ipaddr,f\"{rid}_{categ}\"]\n",
    "    \n",
    "    \n",
    "    # Rule takes in Emp Join Date as Input\n",
    "    def R002(join_date,rid,categ):\n",
    "        # Trim leading and trailing whitespaces\n",
    "        join_date_trimmed = join_date.strip()\n",
    "        is_valid_date = check_date_fmt1(join_date_trimmed)\n",
    "        if is_valid_date:\n",
    "            return [join_date_trimmed,\"\"]\n",
    "        \n",
    "        return [join_date,f\"{rid}_{categ}\"]\n",
    "    \n",
    "    # Rule takes in Emp Gender as Input\n",
    "    def R003(gender,rid,categ):\n",
    "        # Trim leading and trailing whitespaces\n",
    "        gender_trimmed = gender.strip()\n",
    "        clnsed_gender = check_gender(gender_trimmed)\n",
    "        if clnsed_gender :\n",
    "            return [clnsed_gender,\"\"]\n",
    "        \n",
    "        return [gender,f\"{rid}_{categ}\"]\n",
    "    \n",
    "    # Rule takes in Emp Mail as Input and checks if it has msn.net\n",
    "    def R004(empmail,rid,categ):\n",
    "        # Trim leading and trailing whitespaces\n",
    "        empmail_trimmed = empmail.strip()\n",
    "        is_valid_mail = check_mail(empmail_trimmed)\n",
    "        if is_valid_mail :\n",
    "            return [empmail_trimmed,\"\"]\n",
    "        \n",
    "        return [empmail,f\"{rid}_{categ}\"]\n",
    "    \n",
    "    # Rule takes in Employee ID and appends with EMP_ with Employee ID\n",
    "    def R005(empid,rid,categ):\n",
    "        # Trim leading and trailing whitespaces\n",
    "        empid_trimmed = str(empid).strip()\n",
    "        return \"EMP_\"+empid_trimmed\n",
    "    \n",
    "    # Function that calls ruleUDF dynamically\n",
    "    @classmethod\n",
    "    def udf_caller(cls,ruleID,rule_categ):\n",
    "        # Get a pointer to the function name as a handle by passing the ClassName and RuleID Value\n",
    "        func_name = getattr(cls,ruleID)\n",
    "        # Check if the current rule being invoked as a transformation or rule.Correspondingly provide handle to the appropriate UDF by applying appropriate schema\n",
    "        if rule_categ == \"TRANS\":\n",
    "            rule_udf=udf(func_name,trans_schema)\n",
    "        else:\n",
    "            rule_udf=udf(func_name,rule_schema)\n",
    "        # Switch caste to return UDF based on Input Columns and pass the last 2 parameters as Rule Category,Rule ID\n",
    "        switcher = {\n",
    "            \"R001\":rule_udf(\"ip_address\",lit(rule_categ),lit(ruleID)),\n",
    "            \"R002\":rule_udf(\"emp_join_date\",lit(rule_categ),lit(ruleID)),\n",
    "            \"R003\":rule_udf(\"gender\",lit(rule_categ),lit(ruleID)),\n",
    "            \"R004\":rule_udf(\"email\",lit(rule_categ),lit(ruleID)),\n",
    "            \"R005\":rule_udf(\"id\",lit(rule_categ),lit(ruleID))\n",
    "        }\n",
    "        if ruleID not in switcher:\n",
    "            raise Exception(\"Rule doesnt exist in Dictionary\")\n",
    "            \n",
    "        return switcher.get(ruleID,rule_udf(\"id\",lit(rule_categ),lit(ruleID)))"
   ]
  }
 ],
 "metadata": {
  "kernelspec": {
   "display_name": "Python 3",
   "language": "python",
   "name": "python3"
  },
  "language_info": {
   "codemirror_mode": {
    "name": "ipython",
    "version": 3
   },
   "file_extension": ".py",
   "mimetype": "text/x-python",
   "name": "python",
   "nbconvert_exporter": "python",
   "pygments_lexer": "ipython3",
   "version": "3.7.5"
  },
  "varInspector": {
   "cols": {
    "lenName": 16,
    "lenType": 16,
    "lenVar": 40
   },
   "kernels_config": {
    "python": {
     "delete_cmd_postfix": "",
     "delete_cmd_prefix": "del ",
     "library": "var_list.py",
     "varRefreshCmd": "print(var_dic_list())"
    },
    "r": {
     "delete_cmd_postfix": ") ",
     "delete_cmd_prefix": "rm(",
     "library": "var_list.r",
     "varRefreshCmd": "cat(var_dic_list()) "
    }
   },
   "types_to_exclude": [
    "module",
    "function",
    "builtin_function_or_method",
    "instance",
    "_Feature"
   ],
   "window_display": false
  }
 },
 "nbformat": 4,
 "nbformat_minor": 2
}
